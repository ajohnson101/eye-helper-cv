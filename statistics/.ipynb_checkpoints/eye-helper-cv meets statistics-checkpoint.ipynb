{
 "metadata": {
  "name": "",
  "signature": "sha256:203491562b218dbaadedd7f21670af7da890116b8c92a52ce6a596a3e95f458d"
 },
 "nbformat": 3,
 "nbformat_minor": 0,
 "worksheets": [
  {
   "cells": [
    {
     "cell_type": "markdown",
     "metadata": {},
     "source": [
      "July 23, 2014 \n",
      "\n",
      "Hello there!\n",
      "\n",
      "The goal of this ipython notebook is to document our statistical analysis for comparing object tracking methods in eye-helper-cv. \n",
      "\n",
      "### Relevant datasets in this notebook\n",
      "- Cookie\n",
      "- Cereal\n",
      "\n",
      "### Methods we're comparing\n",
      "- SIFT\n",
      "- SURF\n",
      "- ORB\n",
      "- BRISK\n",
      "\n",
      "###Contents include:\n",
      "- Handy functions for comparing \n",
      "- ANOVA testing to compare performance between the four methods"
     ]
    },
    {
     "cell_type": "code",
     "collapsed": false,
     "input": [
      "print 'Hello world!'"
     ],
     "language": "python",
     "metadata": {},
     "outputs": [
      {
       "output_type": "stream",
       "stream": "stdout",
       "text": [
        "Hello world!\n"
       ]
      }
     ],
     "prompt_number": 1
    },
    {
     "cell_type": "markdown",
     "metadata": {},
     "source": [
      "## ANOVA Test Results\n",
      "\n",
      "|       | SIFT  | SURF  | ORB   | BRISK |\n",
      "|-------|-------|-------|-------|-------|\n",
      "| SIFT  |       |       |   |   |\n",
      "| SURF  |       |       |   |   |\n",
      "| ORB   |       |       |   |   |\n",
      "| BRISK |       |       |   |   |"
     ]
    },
    {
     "cell_type": "code",
     "collapsed": false,
     "input": [],
     "language": "python",
     "metadata": {},
     "outputs": []
    }
   ],
   "metadata": {}
  }
 ]
}