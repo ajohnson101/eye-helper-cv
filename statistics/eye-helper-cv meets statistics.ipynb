{
 "metadata": {
  "name": "",
  "signature": "sha256:fe0a888e3ab25649beaec937c23974e0841a2616a57b39cdd382a0d0da2cbd13"
 },
 "nbformat": 3,
 "nbformat_minor": 0,
 "worksheets": [
  {
   "cells": [
    {
     "cell_type": "markdown",
     "metadata": {},
     "source": [
      "##eye-helper-cv meets statistics\n",
      "July 23, 2014 \n",
      "\n",
      "Hello there!\n",
      "\n",
      "The goal of this ipython notebook is to document our statistical analysis for comparing object tracking methods in eye-helper-cv. \n",
      "\n",
      "### Relevant datasets in this notebook\n",
      "- Cookie \n",
      "- Cereal \n",
      "\n",
      "### Methods we're comparing\n",
      "- SIFT\n",
      "- SURF\n",
      "- ORB\n",
      "- BRISK\n",
      "\n",
      "###Contents include:\n",
      "- Handy functions (originally in compare_kpd.py)\n",
      "- ANOVA testing to compare performance between the four methods"
     ]
    },
    {
     "cell_type": "markdown",
     "metadata": {},
     "source": [
      "##Importing relevant things"
     ]
    },
    {
     "cell_type": "code",
     "collapsed": false,
     "input": [
      "import cv2\n",
      "import numpy as np \n",
      "import csv\n",
      "import pickle\n",
      "import scipy.ndimage \n",
      "import scipy.stats\n",
      "import os\n",
      "import math\n",
      "import matplotlib.pyplot as plt  \n",
      "import pprint as pp"
     ],
     "language": "python",
     "metadata": {},
     "outputs": [],
     "prompt_number": 4
    },
    {
     "cell_type": "markdown",
     "metadata": {},
     "source": [
      "## ANOVA (analysis of variance) Testing"
     ]
    },
    {
     "cell_type": "code",
     "collapsed": false,
     "input": [
      "methods = ['SURF', 'SIFT', 'BRISK', 'SURF']\n",
      "\n",
      "\n"
     ],
     "language": "python",
     "metadata": {},
     "outputs": [],
     "prompt_number": 3
    },
    {
     "cell_type": "markdown",
     "metadata": {},
     "source": [
      "## ANOVA Test Results\n",
      "\n",
      "|       | SIFT  | SURF  | ORB   | BRISK |\n",
      "|-------|-------|-------|-------|-------|\n",
      "| SIFT  |-------|       |-------|-------|\n",
      "| SURF  |       |       |-------|-------|\n",
      "| ORB   |       |       |   |   |\n",
      "| BRISK |       |       |   |   |"
     ]
    },
    {
     "cell_type": "code",
     "collapsed": false,
     "input": [],
     "language": "python",
     "metadata": {},
     "outputs": [],
     "prompt_number": 3
    }
   ],
   "metadata": {}
  }
 ]
}